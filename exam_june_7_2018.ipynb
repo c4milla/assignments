{
 "cells": [
  {
   "cell_type": "markdown",
   "metadata": {},
   "source": [
    "Before you turn this problem in, make sure everything runs as expected. First, **restart the kernel** (in the menubar, select Kernel$\\rightarrow$Restart) and then **run all cells** (in the menubar, select Cell$\\rightarrow$Run All).\n",
    "\n",
    "Make sure you fill in any place that says `YOUR CODE HERE` or \"YOUR ANSWER HERE\", as well as your name and collaborators below:"
   ]
  },
  {
   "cell_type": "code",
   "execution_count": 83,
   "metadata": {},
   "outputs": [],
   "source": [
    "NAME = \"Camilla Christensen, #2008949, u476647#\"\n",
    "COLLABORATORS = \"Mirte Hanssen, #2008317,u526393#\""
   ]
  },
  {
   "cell_type": "markdown",
   "metadata": {},
   "source": [
    "---"
   ]
  },
  {
   "cell_type": "markdown",
   "metadata": {},
   "source": [
    "Fill in the cell above to provide us with your name and student number, like\n",
    "\n",
    "NAME = \"Adam Smith, #student number#\"\n",
    "\n",
    "where you replace \"#student number#\" with your ... (very good!)\n",
    "\n",
    "and if you are doing this with someone else (not more than one other person):\n",
    "\n",
    "COLLABORATORS = \"Karl Marx, #student number#\""
   ]
  },
  {
   "cell_type": "markdown",
   "metadata": {
    "deletable": false,
    "editable": false,
    "nbgrader": {
     "checksum": "a7ae5c69becf064d614c6c38935eca51",
     "grade": false,
     "grade_id": "cell-895e9a7b94992ec9",
     "locked": true,
     "schema_version": 1,
     "solution": false
    }
   },
   "source": [
    "# exam June 7th, 2018\n"
   ]
  },
  {
   "cell_type": "markdown",
   "metadata": {
    "deletable": false,
    "editable": false,
    "nbgrader": {
     "checksum": "bc48d165f54aa364aa34509649fcdef5",
     "grade": false,
     "grade_id": "cell-540987818af25557",
     "locked": true,
     "schema_version": 1,
     "solution": false
    }
   },
   "source": [
    "\n",
    "In the first cell of the notebook, give us your name and student number in the way indicated above. If you do this notebook with --at max.-- one other student, give her/his name and student number as well under \"COLLABORATORS\".\n",
    "\n",
    "Fill in the notebook (see below for code cells and text cells that you need to fill in).\n",
    "\n",
    "If you look at the menus above (File, Edit, View etc.), there is one called \"Cell\". If you click on this, you can change the \"Cell Type\". Choose \"Code\" when you are typing python or R code. Choose \"Markdown\" when you are typing, well, markdown.\n",
    "\n",
    "When you finish the notebook, make sure that you **save it with the output of your code included**. \n",
    "\n",
    "Then put it on github, e.g. by dragging it onto github (see instructions below). \n",
    "\n",
    "Finally, add a link to your README file with the name of this exam: \"Exam June 7, 2018\".\n",
    "\n"
   ]
  },
  {
   "cell_type": "markdown",
   "metadata": {
    "deletable": false,
    "editable": false,
    "nbgrader": {
     "checksum": "6fad9bed312da1b0097e9c520b18e3fb",
     "grade": false,
     "grade_id": "cell-e1cf88cb799f1f43",
     "locked": true,
     "schema_version": 1,
     "solution": false
    }
   },
   "source": [
    "## price effects of mergers\n",
    "\n",
    "We consider a merger in this notebook. \n",
    "\n",
    "First we calculate the equilibrium with three firms, denoted by 1, 2 and 3. Then firms 2 and 3 merge so that we are left with 2 firms; denoted by 1 and 2.\n",
    "\n",
    "We calculate the effects of the merger on the equilibrium price.\n",
    "\n",
    "We start by importing the usual libraries."
   ]
  },
  {
   "cell_type": "code",
   "execution_count": 307,
   "metadata": {
    "deletable": false,
    "editable": false,
    "nbgrader": {
     "checksum": "7bd770ef54db47c3b6c8d0e31f6baef6",
     "grade": false,
     "grade_id": "cell-b895769bf40e183a",
     "locked": true,
     "schema_version": 1,
     "solution": false
    }
   },
   "outputs": [],
   "source": [
    "import matplotlib.pyplot as plt\n",
    "import pandas as pd\n",
    "import numpy as np\n",
    "from scipy import optimize\n",
    "%matplotlib inline"
   ]
  },
  {
   "cell_type": "markdown",
   "metadata": {},
   "source": [
    "The following code helps to calculate the equilibrium for the case with 3 firms. Note that you have seen similar code during the tutorials to calculate the equilibrium with 2 firms.\n",
    "\n",
    "We assume that before the merger each firm has constant marginal costs equal to 0.3. We assume a simple linear (inverse) demand curve of the form $p=1-Q$ where $p$ denotes price and $Q$ total output on the market. Total output equals the sum of each firm's output: $Q= q_1 + q_2+q_3$."
   ]
  },
  {
   "cell_type": "code",
   "execution_count": 308,
   "metadata": {
    "deletable": false,
    "editable": false,
    "nbgrader": {
     "checksum": "3e30f7ac9d9155ef089b8ca56a0c0436",
     "grade": false,
     "grade_id": "cell-f97a25efed556fd2",
     "locked": true,
     "schema_version": 1,
     "solution": false
    }
   },
   "outputs": [],
   "source": [
    "c0 = 0.3\n",
    "vector_c = [c0]*3\n",
    "\n",
    "def p(Q):\n",
    "    return 1 - Q\n",
    "\n",
    "def costs(q,c):\n",
    "    return c*q\n",
    "\n",
    "def profits(q,Q_other,c):\n",
    "    return p(q+Q_other)*q-costs(q,c)\n",
    "\n",
    "def reaction(Q_other,c):\n",
    "    q1 =  optimize.fminbound(lambda x: -profits(x,Q_other,c),0,1,full_output=1)\n",
    "    return q1[0]\n",
    "\n",
    "def fixed_point_three_firms(vector_q,vector_c):\n",
    "    return [vector_q[0]-reaction(vector_q[1]+vector_q[2],vector_c[0]),\n",
    "            vector_q[1]-reaction(vector_q[0]+vector_q[2],vector_c[1]),\n",
    "            vector_q[2]-reaction(vector_q[0]+vector_q[1],vector_c[2])]\n",
    "\n"
   ]
  },
  {
   "cell_type": "markdown",
   "metadata": {
    "deletable": false,
    "editable": false,
    "nbgrader": {
     "checksum": "f6ea3b2416aca7293a5450c45865f242",
     "grade": false,
     "grade_id": "cell-83284c4090d6de8c",
     "locked": true,
     "schema_version": 1,
     "solution": false
    }
   },
   "source": [
    "#### a) [0.5 points] Show that total equilibrium output equals  0.525. Derive the equilibrium price and Herfindahl index; denote these by `P0` and `H0` resp."
   ]
  },
  {
   "cell_type": "markdown",
   "metadata": {
    "deletable": false,
    "nbgrader": {
     "checksum": "a06d73c35395adb00480733b458cb4a5",
     "grade": true,
     "grade_id": "cell-3b8ee172d9950128",
     "locked": false,
     "points": 0.5,
     "schema_version": 1,
     "solution": true
    }
   },
   "source": [
    "*Here we first calculate the equilibrium quantities for each firm, using the fixed_point_three_firms formula and optimize.fsolve(). By summing up those quantities, we get the total equilibrium quantity.*\n"
   ]
  },
  {
   "cell_type": "code",
   "execution_count": 309,
   "metadata": {},
   "outputs": [
    {
     "name": "stdout",
     "output_type": "stream",
     "text": [
      "[0.175 0.175 0.175]\n",
      "0.525\n"
     ]
    }
   ],
   "source": [
    "initial_guess = [0,0,0]\n",
    "equilibrium_output = optimize.fsolve(lambda q: fixed_point_three_firms(q, vector_c), initial_guess)\n",
    "print(equilibrium_output)\n",
    "\n",
    "total_equilibrium_output = sum(equilibrium_output)\n",
    "print(total_equilibrium_output)"
   ]
  },
  {
   "cell_type": "markdown",
   "metadata": {},
   "source": [
    "*To find the equilibrium price we use the earlier established function \n",
    "\\begin{equation}\n",
    "p(Q) = 1 - Q\n",
    "\\end{equation}\n",
    "By filling in total_equilibrium_output for Q, we get 1 - 0.525 = 0.475*"
   ]
  },
  {
   "cell_type": "code",
   "execution_count": 310,
   "metadata": {},
   "outputs": [
    {
     "name": "stdout",
     "output_type": "stream",
     "text": [
      "0.475\n"
     ]
    }
   ],
   "source": [
    "P0 = p(total_equilibrium_output)\n",
    "print(P0)"
   ]
  },
  {
   "cell_type": "markdown",
   "metadata": {},
   "source": [
    "*To find the Herfindahl index per firm, we use the following equation:\n",
    "\\begin{equation}\n",
    "Herfindahl index = (value / total)^2\n",
    "\\end{equation}\n",
    "To sum up the indexes of the firms, we use sum().*"
   ]
  },
  {
   "cell_type": "code",
   "execution_count": 311,
   "metadata": {},
   "outputs": [
    {
     "name": "stdout",
     "output_type": "stream",
     "text": [
      "0.3333333333333333\n"
     ]
    }
   ],
   "source": [
    "def H(Q):\n",
    "    return (equilibrium_output / Q)**2\n",
    "\n",
    "H0 = sum(H(total_equilibrium_output))\n",
    "print(H0)"
   ]
  },
  {
   "cell_type": "markdown",
   "metadata": {
    "deletable": false,
    "editable": false,
    "nbgrader": {
     "checksum": "87b3b3e0e2d645c280e279312e489dc4",
     "grade": false,
     "grade_id": "cell-4b33762aa4a601fe",
     "locked": true,
     "schema_version": 1,
     "solution": false
    }
   },
   "source": [
    "#### b) [0.5 point] Define a function `fixed_point_two_firms` with the same structure as the function `fixed_point_three_firms` above, except that it derives the equilibrium output levels for a duopoly (two firms). Test this function by showing that each of the two firms produces 0.3333 in case both firms have zero costs."
   ]
  },
  {
   "cell_type": "markdown",
   "metadata": {
    "deletable": false,
    "nbgrader": {
     "checksum": "024a1519155d681b57c85292df535a65",
     "grade": true,
     "grade_id": "cell-5ee215676b91f504",
     "locked": false,
     "points": 0.5,
     "schema_version": 1,
     "solution": true
    }
   },
   "source": [
    "*First we have to define costs by zero, using c1 instead of c0 for extra clarity. Afterwards we define a new function the same way as previously, just this time without the third firm. We also find the equilibrium the same way as before.*"
   ]
  },
  {
   "cell_type": "code",
   "execution_count": 312,
   "metadata": {},
   "outputs": [
    {
     "data": {
      "text/plain": [
       "array([0.33333333, 0.33333333])"
      ]
     },
     "execution_count": 312,
     "metadata": {},
     "output_type": "execute_result"
    }
   ],
   "source": [
    "c1 = 0\n",
    "vector_c = [c1]*2\n",
    "\n",
    "def fixed_point_two_firms(vector_q,vector_c):\n",
    "    return [vector_q[0]-reaction(vector_q[1],vector_c[0]),\n",
    "            vector_q[1]-reaction(vector_q[0],vector_c[1])]\n",
    "\n",
    "initial_guess = [0,0]\n",
    "optimize.fsolve(lambda q: fixed_point_two_firms(q, vector_c), initial_guess)"
   ]
  },
  {
   "cell_type": "markdown",
   "metadata": {
    "deletable": false,
    "editable": false,
    "nbgrader": {
     "checksum": "5291fc8716e367572fde17ebe5844d2f",
     "grade": false,
     "grade_id": "cell-c2fada02efd7b197",
     "locked": true,
     "schema_version": 1,
     "solution": false
    }
   },
   "source": [
    "The Dutch competition authority, ACM, is asked to evaluate the effects of a merger between firms 2 and 3. Firms 2 and 3 claim that by merging they can reduce their constant marginal costs. But it is not clear by how much they will reduce their costs.\n",
    "\n",
    "The ACM assumes that the marginal cost level of the merged firm is uniformly distributed between 0 and the current marginal cost level `c0`. The merger will not affect the marginal cost level of firm 1 who does not merge. Firm 1's cost level remains `c0`.\n",
    "\n",
    "The next cell generates a vector of cost levels for the merged firm, denoted `c_after_merger`. Evaluate \"c_after_merger\" in a separate cell if you do not understand the command that defines it.\n",
    "\n",
    "Then it calculates the equilibrium output levels for (the non-merging) firm 1 and (the merged) firm 2.\n",
    "\n",
    "Note that you need to specify `initial_guess`.\n"
   ]
  },
  {
   "cell_type": "code",
   "execution_count": 313,
   "metadata": {
    "deletable": false,
    "editable": false,
    "nbgrader": {
     "checksum": "11299317cd53e31de9900700999b0324",
     "grade": false,
     "grade_id": "cell-ce91ab3e3225c57d",
     "locked": true,
     "schema_version": 1,
     "solution": false
    }
   },
   "outputs": [],
   "source": [
    "c_after_merger = np.random.uniform(0,c0,size = 100)\n",
    "\n",
    "q1_after_merger = [optimize.fsolve(lambda q: fixed_point_two_firms(q,[c0,c]), initial_guess)[0] for c in c_after_merger]\n",
    "q2_after_merger = [optimize.fsolve(lambda q: fixed_point_two_firms(q,[c0,c]), initial_guess)[1] for c in c_after_merger]\n",
    "\n",
    "\n"
   ]
  },
  {
   "cell_type": "markdown",
   "metadata": {
    "deletable": false,
    "editable": false,
    "nbgrader": {
     "checksum": "2b518306d6ff20ee42d0bc3085333095",
     "grade": false,
     "grade_id": "cell-0acc18b4f07a09f4",
     "locked": true,
     "schema_version": 1,
     "solution": false
    }
   },
   "source": [
    "#### c) [0.5 points] Create a dataframe called `df_after_merger` with three columns: `c_merged_firm`, `output_non_merging_firm`, `output_merged_firm` containing resp. the cost level of the merged firm, the output level of firm 1 and the output level of firm 2."
   ]
  },
  {
   "cell_type": "markdown",
   "metadata": {
    "deletable": false,
    "nbgrader": {
     "checksum": "f4fc6a3bdef91fa3f656ccd3290c9f54",
     "grade": true,
     "grade_id": "cell-f3eacda828774f2d",
     "locked": false,
     "points": 0.5,
     "schema_version": 1,
     "solution": true
    }
   },
   "source": [
    "*first we renamed all the data to the correct column names, so for exmple output_non_merging_firm = q1_after_merger. Then we created a dictionary with this data. The text betweem \"\" shows what the columns are called, followed by the data that will be underneath those headings*"
   ]
  },
  {
   "cell_type": "code",
   "execution_count": 314,
   "metadata": {},
   "outputs": [
    {
     "data": {
      "text/html": [
       "<div>\n",
       "<style scoped>\n",
       "    .dataframe tbody tr th:only-of-type {\n",
       "        vertical-align: middle;\n",
       "    }\n",
       "\n",
       "    .dataframe tbody tr th {\n",
       "        vertical-align: top;\n",
       "    }\n",
       "\n",
       "    .dataframe thead th {\n",
       "        text-align: right;\n",
       "    }\n",
       "</style>\n",
       "<table border=\"1\" class=\"dataframe\">\n",
       "  <thead>\n",
       "    <tr style=\"text-align: right;\">\n",
       "      <th></th>\n",
       "      <th>c_merged_firm</th>\n",
       "      <th>output_merged_firm</th>\n",
       "      <th>output_non_merging_firm</th>\n",
       "    </tr>\n",
       "  </thead>\n",
       "  <tbody>\n",
       "    <tr>\n",
       "      <th>0</th>\n",
       "      <td>0.137699</td>\n",
       "      <td>0.341534</td>\n",
       "      <td>0.179233</td>\n",
       "    </tr>\n",
       "    <tr>\n",
       "      <th>1</th>\n",
       "      <td>0.113617</td>\n",
       "      <td>0.357589</td>\n",
       "      <td>0.171206</td>\n",
       "    </tr>\n",
       "    <tr>\n",
       "      <th>2</th>\n",
       "      <td>0.091260</td>\n",
       "      <td>0.372493</td>\n",
       "      <td>0.163753</td>\n",
       "    </tr>\n",
       "    <tr>\n",
       "      <th>3</th>\n",
       "      <td>0.108296</td>\n",
       "      <td>0.361136</td>\n",
       "      <td>0.169432</td>\n",
       "    </tr>\n",
       "    <tr>\n",
       "      <th>4</th>\n",
       "      <td>0.246111</td>\n",
       "      <td>0.269259</td>\n",
       "      <td>0.215370</td>\n",
       "    </tr>\n",
       "  </tbody>\n",
       "</table>\n",
       "</div>"
      ],
      "text/plain": [
       "   c_merged_firm  output_merged_firm  output_non_merging_firm\n",
       "0       0.137699            0.341534                 0.179233\n",
       "1       0.113617            0.357589                 0.171206\n",
       "2       0.091260            0.372493                 0.163753\n",
       "3       0.108296            0.361136                 0.169432\n",
       "4       0.246111            0.269259                 0.215370"
      ]
     },
     "execution_count": 314,
     "metadata": {},
     "output_type": "execute_result"
    }
   ],
   "source": [
    "output_non_merging_firm =  q1_after_merger\n",
    "output_merged_firm = q2_after_merger\n",
    "c_merged_firm = c_after_merger\n",
    "\n",
    "data ={\"c_merged_firm\":c_merged_firm,\"output_non_merging_firm\":output_non_merging_firm,\"output_merged_firm\":output_merged_firm}\n",
    "df_after_merger = pd.DataFrame(data)\n",
    "\n",
    "df_after_merger.head(5)"
   ]
  },
  {
   "cell_type": "markdown",
   "metadata": {
    "deletable": false,
    "editable": false,
    "nbgrader": {
     "checksum": "a5bf4171960844da9c57375d83b6eedf",
     "grade": false,
     "grade_id": "cell-7ad058be42e19df8",
     "locked": true,
     "schema_version": 1,
     "solution": false
    }
   },
   "source": [
    "#### d) [0.5 points] Add three columns to the dataframe with resp. total equilibrium output on the market, `Q`, equilibrium price, `P` and the Herfindahl index, `H`."
   ]
  },
  {
   "cell_type": "markdown",
   "metadata": {
    "deletable": false,
    "nbgrader": {
     "checksum": "ab6179623b39a6ae634abea45326e4ab",
     "grade": true,
     "grade_id": "cell-9c39b11747803ca1",
     "locked": false,
     "points": 0.5,
     "schema_version": 1,
     "solution": true
    }
   },
   "source": [
    "*First we defined Q, P and H, we have to use np.array to be able sum up the lists. To create the new DataFrame, we use the same DataFrame as before, this time with Q, P and H in it as well.*"
   ]
  },
  {
   "cell_type": "code",
   "execution_count": 359,
   "metadata": {},
   "outputs": [
    {
     "data": {
      "text/html": [
       "<div>\n",
       "<style scoped>\n",
       "    .dataframe tbody tr th:only-of-type {\n",
       "        vertical-align: middle;\n",
       "    }\n",
       "\n",
       "    .dataframe tbody tr th {\n",
       "        vertical-align: top;\n",
       "    }\n",
       "\n",
       "    .dataframe thead th {\n",
       "        text-align: right;\n",
       "    }\n",
       "</style>\n",
       "<table border=\"1\" class=\"dataframe\">\n",
       "  <thead>\n",
       "    <tr style=\"text-align: right;\">\n",
       "      <th></th>\n",
       "      <th>H</th>\n",
       "      <th>P</th>\n",
       "      <th>Q</th>\n",
       "      <th>c_merged_firm</th>\n",
       "      <th>output_merged_firm</th>\n",
       "      <th>output_non_merging_firm</th>\n",
       "    </tr>\n",
       "  </thead>\n",
       "  <tbody>\n",
       "    <tr>\n",
       "      <th>0</th>\n",
       "      <td>0.548565</td>\n",
       "      <td>0.479233</td>\n",
       "      <td>0.520767</td>\n",
       "      <td>0.137699</td>\n",
       "      <td>0.341534</td>\n",
       "      <td>0.179233</td>\n",
       "    </tr>\n",
       "    <tr>\n",
       "      <th>1</th>\n",
       "      <td>0.562117</td>\n",
       "      <td>0.471206</td>\n",
       "      <td>0.528794</td>\n",
       "      <td>0.113617</td>\n",
       "      <td>0.357589</td>\n",
       "      <td>0.171206</td>\n",
       "    </tr>\n",
       "    <tr>\n",
       "      <th>2</th>\n",
       "      <td>0.575762</td>\n",
       "      <td>0.463753</td>\n",
       "      <td>0.536247</td>\n",
       "      <td>0.091260</td>\n",
       "      <td>0.372493</td>\n",
       "      <td>0.163753</td>\n",
       "    </tr>\n",
       "    <tr>\n",
       "      <th>3</th>\n",
       "      <td>0.565276</td>\n",
       "      <td>0.469432</td>\n",
       "      <td>0.530568</td>\n",
       "      <td>0.108296</td>\n",
       "      <td>0.361136</td>\n",
       "      <td>0.169432</td>\n",
       "    </tr>\n",
       "    <tr>\n",
       "      <th>4</th>\n",
       "      <td>0.506182</td>\n",
       "      <td>0.515370</td>\n",
       "      <td>0.484630</td>\n",
       "      <td>0.246111</td>\n",
       "      <td>0.269259</td>\n",
       "      <td>0.215370</td>\n",
       "    </tr>\n",
       "    <tr>\n",
       "      <th>5</th>\n",
       "      <td>0.501310</td>\n",
       "      <td>0.525232</td>\n",
       "      <td>0.474768</td>\n",
       "      <td>0.275696</td>\n",
       "      <td>0.249536</td>\n",
       "      <td>0.225232</td>\n",
       "    </tr>\n",
       "    <tr>\n",
       "      <th>6</th>\n",
       "      <td>0.628686</td>\n",
       "      <td>0.438356</td>\n",
       "      <td>0.561644</td>\n",
       "      <td>0.015068</td>\n",
       "      <td>0.423288</td>\n",
       "      <td>0.138356</td>\n",
       "    </tr>\n",
       "    <tr>\n",
       "      <th>7</th>\n",
       "      <td>0.525201</td>\n",
       "      <td>0.495585</td>\n",
       "      <td>0.504415</td>\n",
       "      <td>0.186756</td>\n",
       "      <td>0.308829</td>\n",
       "      <td>0.195585</td>\n",
       "    </tr>\n",
       "    <tr>\n",
       "      <th>8</th>\n",
       "      <td>0.502208</td>\n",
       "      <td>0.522763</td>\n",
       "      <td>0.477237</td>\n",
       "      <td>0.268290</td>\n",
       "      <td>0.254474</td>\n",
       "      <td>0.222763</td>\n",
       "    </tr>\n",
       "    <tr>\n",
       "      <th>9</th>\n",
       "      <td>0.610818</td>\n",
       "      <td>0.446469</td>\n",
       "      <td>0.553531</td>\n",
       "      <td>0.039407</td>\n",
       "      <td>0.407062</td>\n",
       "      <td>0.146469</td>\n",
       "    </tr>\n",
       "    <tr>\n",
       "      <th>10</th>\n",
       "      <td>0.541262</td>\n",
       "      <td>0.483915</td>\n",
       "      <td>0.516085</td>\n",
       "      <td>0.151744</td>\n",
       "      <td>0.332170</td>\n",
       "      <td>0.183915</td>\n",
       "    </tr>\n",
       "    <tr>\n",
       "      <th>11</th>\n",
       "      <td>0.532123</td>\n",
       "      <td>0.490266</td>\n",
       "      <td>0.509734</td>\n",
       "      <td>0.170798</td>\n",
       "      <td>0.319468</td>\n",
       "      <td>0.190266</td>\n",
       "    </tr>\n",
       "    <tr>\n",
       "      <th>12</th>\n",
       "      <td>0.506067</td>\n",
       "      <td>0.515545</td>\n",
       "      <td>0.484455</td>\n",
       "      <td>0.246634</td>\n",
       "      <td>0.268910</td>\n",
       "      <td>0.215545</td>\n",
       "    </tr>\n",
       "    <tr>\n",
       "      <th>13</th>\n",
       "      <td>0.511403</td>\n",
       "      <td>0.508597</td>\n",
       "      <td>0.491403</td>\n",
       "      <td>0.225790</td>\n",
       "      <td>0.282807</td>\n",
       "      <td>0.208597</td>\n",
       "    </tr>\n",
       "    <tr>\n",
       "      <th>14</th>\n",
       "      <td>0.568625</td>\n",
       "      <td>0.467585</td>\n",
       "      <td>0.532415</td>\n",
       "      <td>0.102755</td>\n",
       "      <td>0.364830</td>\n",
       "      <td>0.167585</td>\n",
       "    </tr>\n",
       "    <tr>\n",
       "      <th>15</th>\n",
       "      <td>0.505852</td>\n",
       "      <td>0.515875</td>\n",
       "      <td>0.484125</td>\n",
       "      <td>0.247624</td>\n",
       "      <td>0.268251</td>\n",
       "      <td>0.215875</td>\n",
       "    </tr>\n",
       "    <tr>\n",
       "      <th>16</th>\n",
       "      <td>0.618517</td>\n",
       "      <td>0.442928</td>\n",
       "      <td>0.557072</td>\n",
       "      <td>0.028783</td>\n",
       "      <td>0.414145</td>\n",
       "      <td>0.142928</td>\n",
       "    </tr>\n",
       "    <tr>\n",
       "      <th>17</th>\n",
       "      <td>0.587148</td>\n",
       "      <td>0.457892</td>\n",
       "      <td>0.542108</td>\n",
       "      <td>0.073677</td>\n",
       "      <td>0.384215</td>\n",
       "      <td>0.157892</td>\n",
       "    </tr>\n",
       "    <tr>\n",
       "      <th>18</th>\n",
       "      <td>0.530950</td>\n",
       "      <td>0.491131</td>\n",
       "      <td>0.508869</td>\n",
       "      <td>0.173394</td>\n",
       "      <td>0.317737</td>\n",
       "      <td>0.191131</td>\n",
       "    </tr>\n",
       "    <tr>\n",
       "      <th>19</th>\n",
       "      <td>0.523469</td>\n",
       "      <td>0.497009</td>\n",
       "      <td>0.502991</td>\n",
       "      <td>0.191027</td>\n",
       "      <td>0.305982</td>\n",
       "      <td>0.197009</td>\n",
       "    </tr>\n",
       "    <tr>\n",
       "      <th>20</th>\n",
       "      <td>0.500024</td>\n",
       "      <td>0.532258</td>\n",
       "      <td>0.467742</td>\n",
       "      <td>0.296774</td>\n",
       "      <td>0.235484</td>\n",
       "      <td>0.232258</td>\n",
       "    </tr>\n",
       "    <tr>\n",
       "      <th>21</th>\n",
       "      <td>0.540375</td>\n",
       "      <td>0.484505</td>\n",
       "      <td>0.515495</td>\n",
       "      <td>0.153514</td>\n",
       "      <td>0.330990</td>\n",
       "      <td>0.184505</td>\n",
       "    </tr>\n",
       "    <tr>\n",
       "      <th>22</th>\n",
       "      <td>0.528049</td>\n",
       "      <td>0.493332</td>\n",
       "      <td>0.506668</td>\n",
       "      <td>0.179995</td>\n",
       "      <td>0.313337</td>\n",
       "      <td>0.193332</td>\n",
       "    </tr>\n",
       "    <tr>\n",
       "      <th>23</th>\n",
       "      <td>0.539879</td>\n",
       "      <td>0.484837</td>\n",
       "      <td>0.515163</td>\n",
       "      <td>0.154511</td>\n",
       "      <td>0.330326</td>\n",
       "      <td>0.184837</td>\n",
       "    </tr>\n",
       "    <tr>\n",
       "      <th>24</th>\n",
       "      <td>0.583502</td>\n",
       "      <td>0.459739</td>\n",
       "      <td>0.540261</td>\n",
       "      <td>0.079217</td>\n",
       "      <td>0.380522</td>\n",
       "      <td>0.159739</td>\n",
       "    </tr>\n",
       "    <tr>\n",
       "      <th>25</th>\n",
       "      <td>0.517333</td>\n",
       "      <td>0.502455</td>\n",
       "      <td>0.497545</td>\n",
       "      <td>0.207364</td>\n",
       "      <td>0.295091</td>\n",
       "      <td>0.202455</td>\n",
       "    </tr>\n",
       "    <tr>\n",
       "      <th>26</th>\n",
       "      <td>0.544824</td>\n",
       "      <td>0.481594</td>\n",
       "      <td>0.518406</td>\n",
       "      <td>0.144783</td>\n",
       "      <td>0.336811</td>\n",
       "      <td>0.181594</td>\n",
       "    </tr>\n",
       "    <tr>\n",
       "      <th>27</th>\n",
       "      <td>0.559811</td>\n",
       "      <td>0.472521</td>\n",
       "      <td>0.527479</td>\n",
       "      <td>0.117564</td>\n",
       "      <td>0.354958</td>\n",
       "      <td>0.172521</td>\n",
       "    </tr>\n",
       "    <tr>\n",
       "      <th>28</th>\n",
       "      <td>0.518623</td>\n",
       "      <td>0.501249</td>\n",
       "      <td>0.498751</td>\n",
       "      <td>0.203746</td>\n",
       "      <td>0.297503</td>\n",
       "      <td>0.201249</td>\n",
       "    </tr>\n",
       "    <tr>\n",
       "      <th>29</th>\n",
       "      <td>0.532306</td>\n",
       "      <td>0.490133</td>\n",
       "      <td>0.509867</td>\n",
       "      <td>0.170398</td>\n",
       "      <td>0.319735</td>\n",
       "      <td>0.190133</td>\n",
       "    </tr>\n",
       "    <tr>\n",
       "      <th>...</th>\n",
       "      <td>...</td>\n",
       "      <td>...</td>\n",
       "      <td>...</td>\n",
       "      <td>...</td>\n",
       "      <td>...</td>\n",
       "      <td>...</td>\n",
       "    </tr>\n",
       "    <tr>\n",
       "      <th>70</th>\n",
       "      <td>0.595120</td>\n",
       "      <td>0.453943</td>\n",
       "      <td>0.546057</td>\n",
       "      <td>0.061829</td>\n",
       "      <td>0.392114</td>\n",
       "      <td>0.153943</td>\n",
       "    </tr>\n",
       "    <tr>\n",
       "      <th>71</th>\n",
       "      <td>0.517235</td>\n",
       "      <td>0.502548</td>\n",
       "      <td>0.497452</td>\n",
       "      <td>0.207644</td>\n",
       "      <td>0.294904</td>\n",
       "      <td>0.202548</td>\n",
       "    </tr>\n",
       "    <tr>\n",
       "      <th>72</th>\n",
       "      <td>0.511249</td>\n",
       "      <td>0.508773</td>\n",
       "      <td>0.491227</td>\n",
       "      <td>0.226318</td>\n",
       "      <td>0.282454</td>\n",
       "      <td>0.208773</td>\n",
       "    </tr>\n",
       "    <tr>\n",
       "      <th>73</th>\n",
       "      <td>0.502163</td>\n",
       "      <td>0.522873</td>\n",
       "      <td>0.477127</td>\n",
       "      <td>0.268620</td>\n",
       "      <td>0.254254</td>\n",
       "      <td>0.222873</td>\n",
       "    </tr>\n",
       "    <tr>\n",
       "      <th>74</th>\n",
       "      <td>0.507187</td>\n",
       "      <td>0.513907</td>\n",
       "      <td>0.486093</td>\n",
       "      <td>0.241720</td>\n",
       "      <td>0.272187</td>\n",
       "      <td>0.213907</td>\n",
       "    </tr>\n",
       "    <tr>\n",
       "      <th>75</th>\n",
       "      <td>0.501211</td>\n",
       "      <td>0.525551</td>\n",
       "      <td>0.474449</td>\n",
       "      <td>0.276654</td>\n",
       "      <td>0.248897</td>\n",
       "      <td>0.225551</td>\n",
       "    </tr>\n",
       "    <tr>\n",
       "      <th>76</th>\n",
       "      <td>0.586874</td>\n",
       "      <td>0.458030</td>\n",
       "      <td>0.541970</td>\n",
       "      <td>0.074090</td>\n",
       "      <td>0.383940</td>\n",
       "      <td>0.158030</td>\n",
       "    </tr>\n",
       "    <tr>\n",
       "      <th>77</th>\n",
       "      <td>0.575669</td>\n",
       "      <td>0.463802</td>\n",
       "      <td>0.536198</td>\n",
       "      <td>0.091407</td>\n",
       "      <td>0.372396</td>\n",
       "      <td>0.163802</td>\n",
       "    </tr>\n",
       "    <tr>\n",
       "      <th>78</th>\n",
       "      <td>0.640006</td>\n",
       "      <td>0.433391</td>\n",
       "      <td>0.566609</td>\n",
       "      <td>0.000172</td>\n",
       "      <td>0.433219</td>\n",
       "      <td>0.133391</td>\n",
       "    </tr>\n",
       "    <tr>\n",
       "      <th>79</th>\n",
       "      <td>0.580828</td>\n",
       "      <td>0.461111</td>\n",
       "      <td>0.538889</td>\n",
       "      <td>0.083332</td>\n",
       "      <td>0.377779</td>\n",
       "      <td>0.161111</td>\n",
       "    </tr>\n",
       "    <tr>\n",
       "      <th>80</th>\n",
       "      <td>0.552441</td>\n",
       "      <td>0.476859</td>\n",
       "      <td>0.523141</td>\n",
       "      <td>0.130578</td>\n",
       "      <td>0.346282</td>\n",
       "      <td>0.176859</td>\n",
       "    </tr>\n",
       "    <tr>\n",
       "      <th>81</th>\n",
       "      <td>0.528075</td>\n",
       "      <td>0.493312</td>\n",
       "      <td>0.506688</td>\n",
       "      <td>0.179936</td>\n",
       "      <td>0.313376</td>\n",
       "      <td>0.193312</td>\n",
       "    </tr>\n",
       "    <tr>\n",
       "      <th>82</th>\n",
       "      <td>0.504794</td>\n",
       "      <td>0.517587</td>\n",
       "      <td>0.482413</td>\n",
       "      <td>0.252761</td>\n",
       "      <td>0.264826</td>\n",
       "      <td>0.217587</td>\n",
       "    </tr>\n",
       "    <tr>\n",
       "      <th>83</th>\n",
       "      <td>0.501696</td>\n",
       "      <td>0.524093</td>\n",
       "      <td>0.475907</td>\n",
       "      <td>0.272279</td>\n",
       "      <td>0.251814</td>\n",
       "      <td>0.224093</td>\n",
       "    </tr>\n",
       "    <tr>\n",
       "      <th>84</th>\n",
       "      <td>0.572587</td>\n",
       "      <td>0.465441</td>\n",
       "      <td>0.534559</td>\n",
       "      <td>0.096324</td>\n",
       "      <td>0.369118</td>\n",
       "      <td>0.165441</td>\n",
       "    </tr>\n",
       "    <tr>\n",
       "      <th>85</th>\n",
       "      <td>0.597549</td>\n",
       "      <td>0.452762</td>\n",
       "      <td>0.547238</td>\n",
       "      <td>0.058285</td>\n",
       "      <td>0.394477</td>\n",
       "      <td>0.152762</td>\n",
       "    </tr>\n",
       "    <tr>\n",
       "      <th>86</th>\n",
       "      <td>0.526306</td>\n",
       "      <td>0.494699</td>\n",
       "      <td>0.505301</td>\n",
       "      <td>0.184097</td>\n",
       "      <td>0.310602</td>\n",
       "      <td>0.194699</td>\n",
       "    </tr>\n",
       "    <tr>\n",
       "      <th>87</th>\n",
       "      <td>0.504280</td>\n",
       "      <td>0.518484</td>\n",
       "      <td>0.481516</td>\n",
       "      <td>0.255452</td>\n",
       "      <td>0.263032</td>\n",
       "      <td>0.218484</td>\n",
       "    </tr>\n",
       "    <tr>\n",
       "      <th>88</th>\n",
       "      <td>0.620446</td>\n",
       "      <td>0.442052</td>\n",
       "      <td>0.557948</td>\n",
       "      <td>0.026155</td>\n",
       "      <td>0.415897</td>\n",
       "      <td>0.142052</td>\n",
       "    </tr>\n",
       "    <tr>\n",
       "      <th>89</th>\n",
       "      <td>0.500783</td>\n",
       "      <td>0.527095</td>\n",
       "      <td>0.472905</td>\n",
       "      <td>0.281285</td>\n",
       "      <td>0.245810</td>\n",
       "      <td>0.227095</td>\n",
       "    </tr>\n",
       "    <tr>\n",
       "      <th>90</th>\n",
       "      <td>0.506892</td>\n",
       "      <td>0.514326</td>\n",
       "      <td>0.485674</td>\n",
       "      <td>0.242979</td>\n",
       "      <td>0.271348</td>\n",
       "      <td>0.214326</td>\n",
       "    </tr>\n",
       "    <tr>\n",
       "      <th>91</th>\n",
       "      <td>0.561685</td>\n",
       "      <td>0.471451</td>\n",
       "      <td>0.528549</td>\n",
       "      <td>0.114352</td>\n",
       "      <td>0.357098</td>\n",
       "      <td>0.171451</td>\n",
       "    </tr>\n",
       "    <tr>\n",
       "      <th>92</th>\n",
       "      <td>0.502496</td>\n",
       "      <td>0.522077</td>\n",
       "      <td>0.477923</td>\n",
       "      <td>0.266232</td>\n",
       "      <td>0.255846</td>\n",
       "      <td>0.222077</td>\n",
       "    </tr>\n",
       "    <tr>\n",
       "      <th>93</th>\n",
       "      <td>0.500186</td>\n",
       "      <td>0.530315</td>\n",
       "      <td>0.469685</td>\n",
       "      <td>0.290944</td>\n",
       "      <td>0.239371</td>\n",
       "      <td>0.230315</td>\n",
       "    </tr>\n",
       "    <tr>\n",
       "      <th>94</th>\n",
       "      <td>0.552826</td>\n",
       "      <td>0.476627</td>\n",
       "      <td>0.523373</td>\n",
       "      <td>0.129882</td>\n",
       "      <td>0.346745</td>\n",
       "      <td>0.176627</td>\n",
       "    </tr>\n",
       "    <tr>\n",
       "      <th>95</th>\n",
       "      <td>0.500185</td>\n",
       "      <td>0.530321</td>\n",
       "      <td>0.469679</td>\n",
       "      <td>0.290963</td>\n",
       "      <td>0.239358</td>\n",
       "      <td>0.230321</td>\n",
       "    </tr>\n",
       "    <tr>\n",
       "      <th>96</th>\n",
       "      <td>0.501967</td>\n",
       "      <td>0.523369</td>\n",
       "      <td>0.476631</td>\n",
       "      <td>0.270107</td>\n",
       "      <td>0.253262</td>\n",
       "      <td>0.223369</td>\n",
       "    </tr>\n",
       "    <tr>\n",
       "      <th>97</th>\n",
       "      <td>0.599014</td>\n",
       "      <td>0.452054</td>\n",
       "      <td>0.547946</td>\n",
       "      <td>0.056162</td>\n",
       "      <td>0.395892</td>\n",
       "      <td>0.152054</td>\n",
       "    </tr>\n",
       "    <tr>\n",
       "      <th>98</th>\n",
       "      <td>0.559818</td>\n",
       "      <td>0.472517</td>\n",
       "      <td>0.527483</td>\n",
       "      <td>0.117552</td>\n",
       "      <td>0.354965</td>\n",
       "      <td>0.172517</td>\n",
       "    </tr>\n",
       "    <tr>\n",
       "      <th>99</th>\n",
       "      <td>0.500255</td>\n",
       "      <td>0.529795</td>\n",
       "      <td>0.470205</td>\n",
       "      <td>0.289386</td>\n",
       "      <td>0.240409</td>\n",
       "      <td>0.229795</td>\n",
       "    </tr>\n",
       "  </tbody>\n",
       "</table>\n",
       "<p>100 rows × 6 columns</p>\n",
       "</div>"
      ],
      "text/plain": [
       "           H         P         Q  c_merged_firm  output_merged_firm  \\\n",
       "0   0.548565  0.479233  0.520767       0.137699            0.341534   \n",
       "1   0.562117  0.471206  0.528794       0.113617            0.357589   \n",
       "2   0.575762  0.463753  0.536247       0.091260            0.372493   \n",
       "3   0.565276  0.469432  0.530568       0.108296            0.361136   \n",
       "4   0.506182  0.515370  0.484630       0.246111            0.269259   \n",
       "5   0.501310  0.525232  0.474768       0.275696            0.249536   \n",
       "6   0.628686  0.438356  0.561644       0.015068            0.423288   \n",
       "7   0.525201  0.495585  0.504415       0.186756            0.308829   \n",
       "8   0.502208  0.522763  0.477237       0.268290            0.254474   \n",
       "9   0.610818  0.446469  0.553531       0.039407            0.407062   \n",
       "10  0.541262  0.483915  0.516085       0.151744            0.332170   \n",
       "11  0.532123  0.490266  0.509734       0.170798            0.319468   \n",
       "12  0.506067  0.515545  0.484455       0.246634            0.268910   \n",
       "13  0.511403  0.508597  0.491403       0.225790            0.282807   \n",
       "14  0.568625  0.467585  0.532415       0.102755            0.364830   \n",
       "15  0.505852  0.515875  0.484125       0.247624            0.268251   \n",
       "16  0.618517  0.442928  0.557072       0.028783            0.414145   \n",
       "17  0.587148  0.457892  0.542108       0.073677            0.384215   \n",
       "18  0.530950  0.491131  0.508869       0.173394            0.317737   \n",
       "19  0.523469  0.497009  0.502991       0.191027            0.305982   \n",
       "20  0.500024  0.532258  0.467742       0.296774            0.235484   \n",
       "21  0.540375  0.484505  0.515495       0.153514            0.330990   \n",
       "22  0.528049  0.493332  0.506668       0.179995            0.313337   \n",
       "23  0.539879  0.484837  0.515163       0.154511            0.330326   \n",
       "24  0.583502  0.459739  0.540261       0.079217            0.380522   \n",
       "25  0.517333  0.502455  0.497545       0.207364            0.295091   \n",
       "26  0.544824  0.481594  0.518406       0.144783            0.336811   \n",
       "27  0.559811  0.472521  0.527479       0.117564            0.354958   \n",
       "28  0.518623  0.501249  0.498751       0.203746            0.297503   \n",
       "29  0.532306  0.490133  0.509867       0.170398            0.319735   \n",
       "..       ...       ...       ...            ...                 ...   \n",
       "70  0.595120  0.453943  0.546057       0.061829            0.392114   \n",
       "71  0.517235  0.502548  0.497452       0.207644            0.294904   \n",
       "72  0.511249  0.508773  0.491227       0.226318            0.282454   \n",
       "73  0.502163  0.522873  0.477127       0.268620            0.254254   \n",
       "74  0.507187  0.513907  0.486093       0.241720            0.272187   \n",
       "75  0.501211  0.525551  0.474449       0.276654            0.248897   \n",
       "76  0.586874  0.458030  0.541970       0.074090            0.383940   \n",
       "77  0.575669  0.463802  0.536198       0.091407            0.372396   \n",
       "78  0.640006  0.433391  0.566609       0.000172            0.433219   \n",
       "79  0.580828  0.461111  0.538889       0.083332            0.377779   \n",
       "80  0.552441  0.476859  0.523141       0.130578            0.346282   \n",
       "81  0.528075  0.493312  0.506688       0.179936            0.313376   \n",
       "82  0.504794  0.517587  0.482413       0.252761            0.264826   \n",
       "83  0.501696  0.524093  0.475907       0.272279            0.251814   \n",
       "84  0.572587  0.465441  0.534559       0.096324            0.369118   \n",
       "85  0.597549  0.452762  0.547238       0.058285            0.394477   \n",
       "86  0.526306  0.494699  0.505301       0.184097            0.310602   \n",
       "87  0.504280  0.518484  0.481516       0.255452            0.263032   \n",
       "88  0.620446  0.442052  0.557948       0.026155            0.415897   \n",
       "89  0.500783  0.527095  0.472905       0.281285            0.245810   \n",
       "90  0.506892  0.514326  0.485674       0.242979            0.271348   \n",
       "91  0.561685  0.471451  0.528549       0.114352            0.357098   \n",
       "92  0.502496  0.522077  0.477923       0.266232            0.255846   \n",
       "93  0.500186  0.530315  0.469685       0.290944            0.239371   \n",
       "94  0.552826  0.476627  0.523373       0.129882            0.346745   \n",
       "95  0.500185  0.530321  0.469679       0.290963            0.239358   \n",
       "96  0.501967  0.523369  0.476631       0.270107            0.253262   \n",
       "97  0.599014  0.452054  0.547946       0.056162            0.395892   \n",
       "98  0.559818  0.472517  0.527483       0.117552            0.354965   \n",
       "99  0.500255  0.529795  0.470205       0.289386            0.240409   \n",
       "\n",
       "    output_non_merging_firm  \n",
       "0                  0.179233  \n",
       "1                  0.171206  \n",
       "2                  0.163753  \n",
       "3                  0.169432  \n",
       "4                  0.215370  \n",
       "5                  0.225232  \n",
       "6                  0.138356  \n",
       "7                  0.195585  \n",
       "8                  0.222763  \n",
       "9                  0.146469  \n",
       "10                 0.183915  \n",
       "11                 0.190266  \n",
       "12                 0.215545  \n",
       "13                 0.208597  \n",
       "14                 0.167585  \n",
       "15                 0.215875  \n",
       "16                 0.142928  \n",
       "17                 0.157892  \n",
       "18                 0.191131  \n",
       "19                 0.197009  \n",
       "20                 0.232258  \n",
       "21                 0.184505  \n",
       "22                 0.193332  \n",
       "23                 0.184837  \n",
       "24                 0.159739  \n",
       "25                 0.202455  \n",
       "26                 0.181594  \n",
       "27                 0.172521  \n",
       "28                 0.201249  \n",
       "29                 0.190133  \n",
       "..                      ...  \n",
       "70                 0.153943  \n",
       "71                 0.202548  \n",
       "72                 0.208773  \n",
       "73                 0.222873  \n",
       "74                 0.213907  \n",
       "75                 0.225551  \n",
       "76                 0.158030  \n",
       "77                 0.163802  \n",
       "78                 0.133391  \n",
       "79                 0.161111  \n",
       "80                 0.176859  \n",
       "81                 0.193312  \n",
       "82                 0.217587  \n",
       "83                 0.224093  \n",
       "84                 0.165441  \n",
       "85                 0.152762  \n",
       "86                 0.194699  \n",
       "87                 0.218484  \n",
       "88                 0.142052  \n",
       "89                 0.227095  \n",
       "90                 0.214326  \n",
       "91                 0.171451  \n",
       "92                 0.222077  \n",
       "93                 0.230315  \n",
       "94                 0.176627  \n",
       "95                 0.230321  \n",
       "96                 0.223369  \n",
       "97                 0.152054  \n",
       "98                 0.172517  \n",
       "99                 0.229795  \n",
       "\n",
       "[100 rows x 6 columns]"
      ]
     },
     "execution_count": 359,
     "metadata": {},
     "output_type": "execute_result"
    }
   ],
   "source": [
    "o_merged_firm = np.array(output_merged_firm)\n",
    "o_n_merging_firm = np.array(output_non_merging_firm)\n",
    "Q = o_merged_firm + o_n_merging_firm\n",
    "H = ((o_merged_firm/np.array(Q))**2) + ((o_n_merging_firm/np.array(Q))**2)\n",
    "P = (100*[1])- np.array(Q)\n",
    "\n",
    "data ={\"c_merged_firm\":c_merged_firm,\"output_non_merging_firm\":output_non_merging_firm,\n",
    "       \"output_merged_firm\":output_merged_firm, \"Q\": Q, \"P\": P, \"H\":H}\n",
    "df_after_merger = pd.DataFrame(data)\n",
    "\n",
    "df_after_merger"
   ]
  },
  {
   "cell_type": "markdown",
   "metadata": {},
   "source": [
    "#### e) [0.5 points] Make a histogram of the equilibrium price `P` after the merger. Also indicate in the histogram the equilibrium price before the merger `P0`. Label the horizontal axis with $P$.\n",
    "\n",
    "[hint: you may want to use matplotlib's `hist`, `vlines` and `legend` to make this graph (e.g use google to find these functions); but feel free to use something else]"
   ]
  },
  {
   "cell_type": "markdown",
   "metadata": {},
   "source": [
    "*we use df_after_merger.hist() to create a histogram. Inside we use column = \"P\" to only get a histogram of P. otherwise we would get a histogram for every column (H, P, Q ...). Using label we add both P and P0 to the legend. By using plt.axvline we get the equilibrium price before the merger as a line through the historgram.*"
   ]
  },
  {
   "cell_type": "code",
   "execution_count": 316,
   "metadata": {
    "deletable": false,
    "nbgrader": {
     "checksum": "b103cd98545261b20f937f4b9db67f68",
     "grade": true,
     "grade_id": "cell-f9193bf8e71f1a9a",
     "locked": false,
     "points": 0.5,
     "schema_version": 1,
     "solution": true
    }
   },
   "outputs": [
    {
     "data": {
      "image/png": "[encoded data removed]",
      "text/plain": [
       "<Figure size 432x288 with 1 Axes>"
      ]
     },
     "metadata": {},
     "output_type": "display_data"
    }
   ],
   "source": [
    "\n",
    "df_after_merger.hist(bins=30, orientation = \"horizontal\", column = \"P\", label=\"P\")\n",
    "plt.xlabel(\"equilibrium price\")\n",
    "plt.axvline(P0, c=\"red\", label=\"P0\")\n",
    "plt.legend()\n",
    "plt.grid()\n",
    "\n"
   ]
  },
  {
   "cell_type": "markdown",
   "metadata": {},
   "source": [
    "#### f) [0.5 points] Explain why sometimes the equilibrium price after the merger exceeds the equilibrium price before the merger and sometimes it is lower than the pre-merger price. [hint: there is a trade off between two effects, depending on which effect dominates, equilibrium price increases or decreases after the merger]"
   ]
  },
  {
   "cell_type": "markdown",
   "metadata": {
    "deletable": false,
    "nbgrader": {
     "checksum": "dd9fc721b7cf7f66587e93cbfb758034",
     "grade": true,
     "grade_id": "cell-7a1f367cd2854156",
     "locked": false,
     "points": 0.5,
     "schema_version": 1,
     "solution": true
    }
   },
   "source": [
    "*marginal costs of the non merging firm always stays at 0.3, while the output of the merged firm is a random variable. Therefore the merged firm will have a different output each time. This in turn gives different price levels and different output levels for the non-merging firm. because of the fact that output levels differ, the amount of market power and thus H increases. When a firm has more market power it can charge higgher prices and thus the equilibrium price is pushed upwards *"
   ]
  },
  {
   "cell_type": "markdown",
   "metadata": {
    "deletable": false,
    "editable": false,
    "nbgrader": {
     "checksum": "e1e41dbf14c605bf91cdc78f70eada99",
     "grade": false,
     "grade_id": "cell-06ed6044f8938a45",
     "locked": true,
     "schema_version": 1,
     "solution": false
    }
   },
   "source": [
    "#### g) [0.5 points] Make a graph with the Herfindahl index on the horizontal axis and the equilibrium price on the vertical axis. This is straightforward for $(H,P)$ after the merger as both values are in the dataframe. Add in another color, the pre-merger combination `(H0,P0)` that we calculated above."
   ]
  },
  {
   "cell_type": "markdown",
   "metadata": {},
   "source": [
    "*using df_after_merger.H we make sure we only get column H and the same goes for P. using plt.plot(H0, P0) we get the equilibrium before merger in the color red."
   ]
  },
  {
   "cell_type": "code",
   "execution_count": 358,
   "metadata": {
    "deletable": false,
    "nbgrader": {
     "checksum": "51cfaacbaf533e85d9794bc74712afd5",
     "grade": true,
     "grade_id": "cell-d647464d04870b73",
     "locked": false,
     "points": 0.5,
     "schema_version": 1,
     "solution": true
    }
   },
   "outputs": [
    {
     "name": "stderr",
     "output_type": "stream",
     "text": [
      "/Users/camilla/anaconda3/lib/python3.6/site-packages/matplotlib/cbook/deprecation.py:107: MatplotlibDeprecationWarning: Adding an axes using the same arguments as a previous axes currently reuses the earlier instance.  In a future version, a new instance will always be created and returned.  Meanwhile, this warning can be suppressed, and the future behavior ensured, by passing a unique label to each axes instance.\n",
      "  warnings.warn(message, mplDeprecation, stacklevel=1)\n"
     ]
    },
    {
     "data": {
      "text/plain": [
       "[Text(0,0.5,'equilibrium price'),\n",
       " Text(0.5,0,'Herfindahl index'),\n",
       " Text(0.5,1,'(H,P)')]"
      ]
     },
     "execution_count": 358,
     "metadata": {},
     "output_type": "execute_result"
    },
    {
     "data": {
      "image/png": "[encoded data removed]",
      "text/plain": [
       "<Figure size 432x288 with 1 Axes>"
      ]
     },
     "metadata": {},
     "output_type": "display_data"
    }
   ],
   "source": [
    "plt.figure(1)\n",
    "plt.plot(df_after_merger.H, df_after_merger.P)\n",
    "plt.plot(H0, P0, 'ro')\n",
    "\n",
    "ax = plt.axes()\n",
    "ax.set(xlabel='Herfindahl index', ylabel='equilibrium price',\n",
    "       title='(H,P)')"
   ]
  },
  {
   "cell_type": "markdown",
   "metadata": {
    "deletable": false,
    "editable": false,
    "nbgrader": {
     "checksum": "11b6609131b1c25886f2c6cafe0f7a59",
     "grade": false,
     "grade_id": "cell-5c5e5776a7c135a2",
     "locked": true,
     "schema_version": 1,
     "solution": false
    }
   },
   "source": [
    "#### h) [0.5 points] Use the graph under g) to discuss the relation between the Herfindahl index and the equilibrium price. To illustrate, some people think that lower values of the Herfindahl index are associated with more competitive outcome. Would you agree with this?"
   ]
  },
  {
   "cell_type": "markdown",
   "metadata": {
    "collapsed": true,
    "deletable": false,
    "nbgrader": {
     "checksum": "3d396887dde3b00420c623b9f4ea8ed2",
     "grade": true,
     "grade_id": "cell-cbd89d483b23a953",
     "locked": false,
     "points": 0.5,
     "schema_version": 1,
     "solution": true
    }
   },
   "source": [
    "*we feel like our graph should look differently. Howver fwe can see that a higher H leads to a lower P. So that would indeed suggest that there is a more competative outcome."
   ]
  },
  {
   "cell_type": "markdown",
   "metadata": {},
   "source": [
    "## Github\n",
    "\n",
    "After you have finished, we need to upload this notebook on github. Make sure that you upload the file on the github page of each collaborator."
   ]
  },
  {
   "cell_type": "markdown",
   "metadata": {},
   "source": [
    "Instructions on how to upload this on github can be found [on this page](http://janboone.github.io/programming-for-economists/github.html). This page has two screencasts: one shows how to drag the notebook onto your github page, the other shows how you can use the command line to upload your notebook.\n"
   ]
  },
  {
   "cell_type": "markdown",
   "metadata": {},
   "source": [
    "Remember to update the README file in your repository to include a link to this notebook on github.\n",
    "\n",
    "\n",
    "The links that you should post start with “github.com/” and are NOT of the form “http://localhost”. Make sure you test your links after uploading."
   ]
  },
  {
   "cell_type": "code",
   "execution_count": null,
   "metadata": {},
   "outputs": [],
   "source": []
  }
 ],
 "metadata": {
  "anaconda-cloud": {},
  "kernelspec": {
   "display_name": "Python 3",
   "language": "python",
   "name": "python3"
  },
  "language_info": {
   "codemirror_mode": {
    "name": "ipython",
    "version": 3
   },
   "file_extension": ".py",
   "mimetype": "text/x-python",
   "name": "python",
   "nbconvert_exporter": "python",
   "pygments_lexer": "ipython3",
   "version": "3.6.4"
  }
 },
 "nbformat": 4,
 "nbformat_minor": 1
}
